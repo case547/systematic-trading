{
  "cells": [
    {
      "cell_type": "markdown",
      "metadata": {
        "id": "mrmyhBQuf6F9"
      },
      "source": [
        "# 2022 Systematic Trading Education Ceritificate Skeleton Code for the Coursework\n"
      ]
    },
    {
      "cell_type": "markdown",
      "source": [
        "## Introduction\n",
        "The code included in this Notebook is the same skeleton code that we discussed in session 1 of the lecture series and the task of this coursework will be for you to write your own strategy and backtest it as we did for basic relative and time series momentum in the first lecture."
      ],
      "metadata": {
        "id": "molafCOxrVMt"
      }
    },
    {
      "cell_type": "code",
      "execution_count": null,
      "metadata": {
        "id": "Q9sTyZgyu3C_"
      },
      "outputs": [],
      "source": [
        "pip install yfinance"
      ]
    },
    {
      "cell_type": "code",
      "execution_count": null,
      "metadata": {
        "id": "GtOwINwNnocq"
      },
      "outputs": [],
      "source": [
        "import numpy as np\n",
        "import pandas as pd\n",
        "import pandas_datareader as pdr\n",
        "import yfinance as yf\n",
        "import matplotlib.pyplot as plt\n",
        "import datetime"
      ]
    },
    {
      "cell_type": "markdown",
      "metadata": {
        "id": "bp-GUs_Rhsa8"
      },
      "source": [
        "## The Parent Class and Evaluation function.\n",
        "In the code below we define the Strategies class which is a class containing all basic features that our individual backtesting strategy classes will inherit from.\n",
        "\n",
        "These basic features include:\n",
        "\n",
        "- the **init method** which defines the asset tickers that the strategy will be focussed on.\n",
        "- the **import data method** that will import data for a given start and end date using the yfinance module as mentioned earlier.\n",
        "- the **backtest method** that defines the class variable self.strat which is the pandas data frame of values representing the strategy. This is left empty as it will be filled in in the child class.\n",
        "- the **evaluate method** which calculates the cumulative returns of the given strategy, plots a chart of the cumulative returns and calculates the sharpe ratio of the strategy.\n",
        "(note that one task this week will be to write code in the evaluate method so that it also returns the sortino ratio)"
      ]
    },
    {
      "cell_type": "code",
      "execution_count": null,
      "metadata": {
        "id": "nM1Hpoj11CbC"
      },
      "outputs": [],
      "source": [
        "####### THIS CODE IS THE SAME AS THE SKELETON CODE THAT WE COMPLETED IN THE FIRST LECTURE ########\n",
        "####### PLEASE DON'T MESS WITH THIS CODE BLOCK AS IT WILL MAKE MARKING AN ABSOLUTE BALL-ACHE!!!!! #########\n",
        "class Strategies():\n",
        "  \"\"\"\n",
        "  A class that contains code that strategies later on will inherit from.\n",
        "  params:\n",
        "  -----\n",
        "  codes = list of stock short codes\n",
        "  -----\n",
        "  \"\"\"\n",
        "  def __init__(self, codes):\n",
        "    self.codes = codes\n",
        "    self.strat = pd.DataFrame()\n",
        "    self.data = pd.DataFrame()\n",
        "\n",
        "  def import_data(self, start_date, end_date):\n",
        "    \"\"\"downloads all data for each backtest from yahoo Finance.\"\"\"\n",
        "    data = yf.download(self.codes, start_date, end_date)\n",
        "    # if only one stock code is entered data is reformated so that\n",
        "    # it is the same format as when multiple stocks are entered\n",
        "    if len(self.codes) == 1:\n",
        "      data.columns = [data.columns, self.codes*len(data.columns)]\n",
        "    #returns data where any row containing NAN values is removed\n",
        "    return data.dropna()\n",
        "\n",
        "  def backtest(self, start_date, end_date):\n",
        "    \"\"\"\n",
        "    Returns a list with elements of a time series' from yahoo finance as well as\n",
        "    an array of values between -1 and 1 that represent the strategy over the giv\n",
        "    en period with 1 representing a long postion in one stock, 0 representing a\n",
        "    neutral postion and -1 representing a short position.\n",
        "    params:\n",
        "    -----\n",
        "    start_date, end_date  = string of dates for backtesting with format Y-m-d\n",
        "    -----\n",
        "    \"\"\"\n",
        "    # sets up a dataframe to contain all strategy info for each stock at each \n",
        "    # time index\n",
        "    self.data = self.import_data(start_date, end_date)\n",
        "    self.strat = pd.DataFrame(data = np.zeros([len(self.data), len(self.codes)]),\n",
        "                              columns = self.codes, index = self.data.index)\n",
        "  \n",
        "  def evaluate(self, start_date, end_date, fig_strat=True, fig_other=False,\n",
        "               percentage_risk_free_rate = 0.1, **kwargs):\n",
        "    \"\"\"\n",
        "    returns a dataframe with columns icluding the daily returns of the portfolio,\n",
        "    the cumulative returns, the sharp ratio and all relevant plots of both the \n",
        "    stock price of each stock \n",
        "    and the strategy.\n",
        "    params:\n",
        "    ----\n",
        "    start_date, end_date  = string of dates for backtesting with format Y-m-d\n",
        "    fig = boolean variable that can be used to produce figures\n",
        "    risk_free_rate = average rate of return on a very safe government issued bond\n",
        "                     used to calculate the sharpe ratio with\n",
        "    **kwargs are any specific keyword arguments that can be passed to the\n",
        "    backtesting function to allow for comparison of the backtest for different\n",
        "    possible parameters defined in the subclass.\n",
        "    ----\n",
        "    \"\"\"\n",
        "    # convert the monthly risk free rate to the daily rate for use\n",
        "    # when calculating Sharpe and sortino ratios\n",
        "    daily_rate = (1+ percentage_risk_free_rate/100)**(1/20) - 1\n",
        "    # run the backtest function and define the stock price data to be once again\n",
        "    # self.data and the signals self.strat\n",
        "    strat = self.backtest(start_date, end_date, **kwargs)\n",
        "    \n",
        "    # sets up a new dataframe which will give the returns of the portfolio\n",
        "    return_df = pd.DataFrame(columns= [\"daily returns\", \"cumulative returns\"],\n",
        "                                  index = self.data.index)\n",
        "    return_df[\"daily returns\"][0] = 0\n",
        "    \n",
        "    # loops through the remaining dates and calculates the return across \n",
        "    # the portfolio\n",
        "    for i in range(1, len(self.data)):\n",
        "      return_df[\"daily returns\"][i] = sum(100*self.strat[c][i-1]*(self.data[\"Adj Close\"][c][i] - self.data[\"Adj Close\"][c][i-1]) \n",
        "                                               /self.data[\"Adj Close\"][c][i-1] for c in self.codes)\n",
        "    # calculates the cumulative return for each date\n",
        "    return_df[\"cumulative returns\"] = ((return_df[\"daily returns\"]/100+1).cumprod()-1)*100\n",
        "    return_df.dropna()\n",
        "\n",
        "    # calculates the sharpe ratio based on a low risk asset\n",
        "    zero_count = 0\n",
        "    while True:\n",
        "      if sum(abs(self.strat[c].iloc[zero_count]) for c in self.codes):\n",
        "        break\n",
        "      zero_count += 1\n",
        "\n",
        "    sharpe  = ((return_df[\"daily returns\"][zero_count:].sum()/100 - \n",
        "                     len(return_df[zero_count:]) * daily_rate) /\n",
        "                    return_df[\"daily returns\"][zero_count:].std())\n",
        "\n",
        "\n",
        "    sortino = ((return_df[\"daily returns\"][zero_count:].sum()/100 - \n",
        "                     len(return_df) * daily_rate) /\n",
        "                    return_df[\"daily returns\"][(return_df[\"daily returns\"] < 0)].std())\n",
        "    \n",
        "    \n",
        "    #plots figures if fig TRUE\n",
        "    if fig_strat:\n",
        "      # plot of strategy returns\n",
        "      plt.figure()\n",
        "      plt.title(\"Strategy Backtest from \"+ start_date+\" to \"+end_date)\n",
        "      plt.plot(return_df[\"cumulative returns\"])\n",
        "      plt.show()\n",
        "\n",
        "    if fig_other:\n",
        "      # plot of all individual stocks\n",
        "      for c in self.codes:\n",
        "        plt.figure()\n",
        "        plt.title(\"Buy and hold from \"+ start_date+\" to \"+end_date+\" for \"+str(c))\n",
        "        plt.plot(((self.data[\"Adj Close\"][c].pct_change()+1).cumprod()-1)*100)\n",
        "        plt.show()\n",
        "    \n",
        "    return [return_df, sharpe, sortino]\n"
      ]
    },
    {
      "cell_type": "markdown",
      "metadata": {
        "id": "K7vPfBo2n1ap"
      },
      "source": [
        "## Strategy Specific Classes\n",
        "Each strategy will have to have at a minimum a specific backtesting method defined in the subclass. This method is where the trading algorithm will be implemented and will return a pandas dataframe with an index of all trading dates, columns for each stock in the backtest and data containing values between -1 and 1 representing the positon in each asset at each date."
      ]
    },
    {
      "cell_type": "markdown",
      "metadata": {
        "id": "58qdF1evnTTy"
      },
      "source": [
        "## Buy and Hold Implementation\n",
        "The first strategy example that we will brifly look at is simply buying and holding each selected asset with an equal weighting. This is acheived by first defining a pandas dataframe full of ones and then dividing through by the number of tickers (or codes). Although this isn't much of an algorithm, it is useful for seeing how the skeleton code works. "
      ]
    },
    {
      "cell_type": "code",
      "execution_count": null,
      "metadata": {
        "id": "lWAIBRLA_fXU"
      },
      "outputs": [],
      "source": [
        "class StrategyBuyAndHold(Strategies):\n",
        "    \"\"\"\n",
        "    This strategy as the name suggests buys and holds an equal amount of each security\n",
        "    \"\"\"\n",
        "    def backtest(self, start_date, end_date):\n",
        "      Strategies.backtest(self, start_date, end_date)\n",
        "      # creates a normalized set of weightings representing a buy and hold strat\n",
        "      #with each column summing to one \n",
        "      self.strat = pd.DataFrame(data = (np.ones([len(self.data), len(self.codes)])\n",
        "                    /len(self.codes)), columns = self.codes)\n",
        "      return self.strat\n",
        "      \n"
      ]
    },
    {
      "cell_type": "code",
      "execution_count": null,
      "metadata": {
        "id": "XQbmd1OGD8_w"
      },
      "outputs": [],
      "source": [
        "# testing of the buy and hold strategy\n",
        "testbh = StrategyBuyAndHold([\"GC=F\"])\n",
        "testbh.evaluate(\"2018-01-01\",\"2022-03-05\", fig_other=True)"
      ]
    },
    {
      "cell_type": "markdown",
      "source": [
        "## Coursework Task\n",
        "****\n",
        "As we were unable to cover this topic in lectures the aim of this coursework will be to code up a moving average model. The concept behind this model involves comparing the short term moving average (e.g average over the last 5 days) with a long term moving average (e.g average over the last 200 days) at each time point. This comparison is what produces buy/sell signals.\n",
        "****\n",
        "### Strategy Outline\n",
        "This strategy has 2 parameters. \n",
        "- **s** - the lookback period for calculating the moving average over a **short** time period.\n",
        "- **l** - the lookback period for calculating the moving average over a **large** time period.\n",
        "\n",
        "At each time instance it is necessary to calculate the simple moving average of the previous **s** and **l** asset prices. To do this in code you could for example do ***self.data[\"Adj Close\"][c][i-s:i].mean()*** i,e calculate the mean of the previous s values at time step i for stock code or ticker c.\n",
        "\n",
        "Then if the short moving average crosses the long moving average i.e the value of the **small time period MA is greater than the large time period MA** then this is a **buy** signal. Otherwise enter a neutral position. (for this strategy there will be **no short selling**) \n",
        "\n",
        "For an individual security at a ceratin time point a buy signal corresponds to a positive value in self.strat and a neutral postion corresponds to a 0. Remember to also normalize across each row of self.strat as was done in the time series momentum strategy in lecture 1.\n",
        "****\n",
        "### Extension\n",
        "An optional part of the coursework will be to extend the complexity of the strategy. You are free to investigate or develop any extra code that you like although I will include a few examples of how to extend the above model:\n",
        "- Instead of using simple moving average's try to code **exponential moving averages** or attempt to use **Kauffmann's adoptive moving average**. For more info on this check out https://corporatefinanceinstitute.com/resources/knowledge/trading-investing/kaufmans-adaptive-moving-average-kama/\n",
        "- Implement a **weighting scheme**.\n",
        "- Investigate how **varying the parameters** of the number of days used in calculating moving averages effects returns and/or volatilty. Try discussing how you would tune the parameters in the question.\n",
        "\n",
        "If you do decide to complete an extension please include a brief summary of what it is you aim to implement in a text block and try to make your code readable by including comments etc... .\n",
        "\n",
        "**For those attempting an extension make sure all the code is error free or else we will not be able to mark your extra code.**\n",
        "****\n",
        "### Marking\n",
        "The coursework will be marked out of 30 with 20 marks for completing the basic strategy and the remaining 10 marks for extending on the strategy as discussed above.\n",
        "\n",
        "The 20 marks for the basic strategy will be awarded for the following:\n",
        "- Getting something that works as described above **(10 marks)**\n",
        "\n",
        "- Usage of **Pandas and Numpy** to optimise how the code runs. For example there are lots of useful inbuilt pandas and numpy functions that can make your code considerably shorter and easier to follow including ***pd.rolling(), pd.pct_change()*** to name a couple. The following 2 links are for the pandas and numpy documentation repsectively, https://pandas.pydata.org/docs/ and https://numpy.org/doc/ **(5 marks)**\n",
        "\n",
        "- Readability of the code and efficiency. Try to include a few comments although don't go overboard. **(3 marks)**\n",
        "\n",
        "- A brief summary of how the code works. This can be written in a text cell below below where you have written your strategy code. **(2 marks)**\n",
        "****\n",
        "**On completion of the coursework and accompanying quiz candiates will recieve a grade of either a pass, merit or distinction.**\n",
        "\n",
        "**To submit your coursework you should upload your final work to the microsoft form given in the email**"
      ],
      "metadata": {
        "id": "z6XXhdcWFPEB"
      }
    },
    {
      "cell_type": "code",
      "source": [
        "class StrategySMA(Strategies):\n",
        "  \"\"\"\n",
        "  An implementation of the simple moving average crossover strategy\n",
        "  \"\"\"\n",
        "  def backtest(self, start_date, end_date, s, l):\n",
        "    \"\"\"\n",
        "    s is the length of the shorter time period,\n",
        "    l is the length of the longer time period.\n",
        "    \"\"\"\n",
        "    Strategies.backtest(self, start_date, end_date)\n",
        "    ##### ENTER YOUR CODE HERE #####"
      ],
      "metadata": {
        "id": "1TlLJyJkO2wO"
      },
      "execution_count": null,
      "outputs": []
    },
    {
      "cell_type": "code",
      "source": [
        "# testing of the moving average crossover strategy\n",
        "testsma = StrategySMA([\"GC=F\",\"ZC=F\",\"HG=F\"])\n",
        "testsma.evaluate(\"2018-01-01\",\"2022-03-05\", fig_other=True)"
      ],
      "metadata": {
        "id": "QnQU9evePz8l"
      },
      "execution_count": null,
      "outputs": []
    },
    {
      "cell_type": "markdown",
      "source": [
        "To implement the extension method discussed above feel free to add any extra code and text blocks to help with your strategy and analysis.\n"
      ],
      "metadata": {
        "id": "elqvpGQRQakl"
      }
    }
  ],
  "metadata": {
    "colab": {
      "collapsed_sections": [],
      "name": "ICIS_STEC_exam_notebook.ipynb",
      "provenance": []
    },
    "kernelspec": {
      "display_name": "Python 3",
      "name": "python3"
    },
    "language_info": {
      "name": "python"
    }
  },
  "nbformat": 4,
  "nbformat_minor": 0
}